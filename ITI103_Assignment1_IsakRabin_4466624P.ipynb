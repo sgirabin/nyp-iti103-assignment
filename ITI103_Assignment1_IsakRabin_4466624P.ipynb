{
  "nbformat": 4,
  "nbformat_minor": 0,
  "metadata": {
    "colab": {
      "provenance": [],
      "toc_visible": true,
      "include_colab_link": true
    },
    "kernelspec": {
      "name": "python3",
      "display_name": "Python 3"
    },
    "language_info": {
      "name": "python"
    }
  },
  "cells": [
    {
      "cell_type": "markdown",
      "metadata": {
        "id": "view-in-github",
        "colab_type": "text"
      },
      "source": [
        "<a href=\"https://colab.research.google.com/github/sgirabin/nyp-iti103-assignment/blob/main/ITI103_Assignment1_IsakRabin_4466624P.ipynb\" target=\"_parent\"><img src=\"https://colab.research.google.com/assets/colab-badge.svg\" alt=\"Open In Colab\"/></a>"
      ]
    },
    {
      "cell_type": "markdown",
      "source": [
        "# **ITI103: Essentials Machine Learning**\n",
        "\n",
        "---\n",
        "\n",
        "**Assignment 1**\n",
        "- **Name**      : **Isak Rabin**\n",
        "- **Student ID**: **4466624P**\n",
        "\n"
      ],
      "metadata": {
        "id": "pvs8bFoAAJpQ"
      }
    },
    {
      "cell_type": "markdown",
      "source": [
        "# Step 1: Machine Learning Problem Formulation"
      ],
      "metadata": {
        "id": "_-iA9aJEAK_E"
      }
    },
    {
      "cell_type": "markdown",
      "source": [
        "## 1.1. Problem Statement:\n",
        "\n",
        "**HousePricePredict Inc.**, a tech startup specializing in predictive analytics for real estate, aims to develop a robust machine learning model that accurately predicts house prices.\n",
        "\n",
        "This model will leverage various features of residential properties **to provide reliable and competitive house price estimates**."
      ],
      "metadata": {
        "id": "zoWJj4vlAQ1j"
      }
    },
    {
      "cell_type": "markdown",
      "source": [
        "## 1.2. Target Variable:\n",
        "\n",
        "The target variable is ```SalePrice```, representing the sale price of a house in dollars.\n",
        "\n",
        "This is the value we want to predict."
      ],
      "metadata": {
        "id": "O0mEno2ZDbXh"
      }
    },
    {
      "cell_type": "markdown",
      "source": [
        "## 1.3. Type of Machine Learning Problem:\n",
        "\n",
        "This is a **supervised**, **unidimensional regression** problem.\n",
        "\n",
        "We have a labeled dataset where each observation (house) has a set of features (independent variables) and a corresponding target variable (`SalePrice`).\n",
        "\n",
        "The goal is to learn a mapping from the features to the target variable, predicting a single, continuous output."
      ],
      "metadata": {
        "id": "N28qRgycDVuE"
      }
    },
    {
      "cell_type": "markdown",
      "source": [
        "## 1.4. Expected Output:\n",
        "\n",
        "The model will take a set of input features describing a residential property and output a single predicted value representing the estimated `SalePrice` of that property."
      ],
      "metadata": {
        "id": "_oiNBZbADKsD"
      }
    },
    {
      "cell_type": "markdown",
      "source": [
        "## 1.5. Data for the Model (Features):\n",
        "\n",
        "The data for the model will come from the `housing_pricing.csv` dataset.\n",
        "\n",
        "This dataset contains features such as:\n",
        "- **Location**: MSZoning, Neighborhood\n",
        "- **Size**: LotArea, LotFrontage, GrLivArea, 1stFlrSF, 2ndFlrSF\n",
        "- **Quality**: OverallQual, OverallCond, KitchenQual, GarageQual\n",
        "- **Construction**: YearBuilt, YearRemodAdd, HouseStyle\n",
        "- **Other**: BedroomAbvGr, FullBath, HalfBath, GarageCars"
      ],
      "metadata": {
        "id": "9qpEzzwJHtJg"
      }
    },
    {
      "cell_type": "markdown",
      "source": [
        "## 1.6. Initial Inputs - Baseline Model:\n",
        "\n",
        "To begin, we will create a simplified baseline model using a subset of the most influential and readily interpretable features.\n",
        "\n",
        "This approach offers several advantages:\n",
        "\n",
        "- **Reduced Complexity**: Starting with fewer features simplifies the initial model-building process, allowing us to quickly establish a baseline performance and identify potential issues.\n",
        "- **Improved Interpretability**: A simpler model is easier to understand and interpret, making it easier to identify the key drivers of house prices and communicate the model's findings to stakeholders.\n",
        "- **Efficient Development**: Focusing on a subset of features allows us to prioritize data cleaning and feature engineering efforts, leading to more efficient model development.\n",
        "- **Iterative Improvement**: We can then iteratively add more features and complexity to the model, evaluating the impact of each addition and refining our approach as needed.\n",
        "\n",
        "Based on domain knowledge and initial data inspection, we will initially focus on the following features:\n",
        "\n",
        "- **OverallQual**: Overall material and finish quality\n",
        "- **GrLivArea**: Above grade (ground) living area square feet\n",
        "- **YearBuilt**: Original construction date\n",
        "- **Neighborhood**: Physical locations within Ames city limits\n",
        "\n",
        "We will evaluate the performance of this baseline model and then strategically incorporate additional features from the full dataset to improve its accuracy and robustness."
      ],
      "metadata": {
        "id": "Q692ivJQHwlf"
      }
    },
    {
      "cell_type": "markdown",
      "source": [
        "## 1.7. Evaluation Metrics:\n",
        "\n",
        "These metrics define the desired business outcomes of the model\n",
        "\n",
        "- **Success Metric**:\n",
        "\n",
        "  The model should provide house price estimates that are, on average, within 5-10% of the actual sale prices for at least 80% of properties.\n",
        "  \n",
        "  This level of accuracy will enable HousePricePredict Inc. to offer competitive and reliable services, attract a large customer base, and support sound investment decisions.\n",
        "\n",
        "- **Failure Metric**:\n",
        "\n",
        "  The model consistently produces house price estimates that deviate by more than 20% from actual sale prices, or exhibits significant bias towards over- or under-valuation in specific neighborhoods or property types.\n",
        "  \n",
        "  This level of inaccuracy would lead to customer dissatisfaction, loss of trust in the service, and potential financial losses due to poor investment recommendations."
      ],
      "metadata": {
        "id": "vZrKzeEmDSv0"
      }
    },
    {
      "cell_type": "markdown",
      "source": [
        "# Step 2: Data Exploration and Understanding"
      ],
      "metadata": {
        "id": "kaJSZSoFImBh"
      }
    },
    {
      "cell_type": "markdown",
      "source": [
        "## 2.1. Import libraries"
      ],
      "metadata": {
        "id": "uPswaMkIJmd_"
      }
    },
    {
      "cell_type": "code",
      "execution_count": null,
      "metadata": {
        "id": "Zu_RWJhQADLy"
      },
      "outputs": [],
      "source": [
        "import pandas as pd\n",
        "import matplotlib.pyplot as plt\n",
        "import numpy as np\n",
        "import seaborn as sns"
      ]
    },
    {
      "cell_type": "markdown",
      "source": [
        "## 2.2. Load the Dataset"
      ],
      "metadata": {
        "id": "QQzbc8ETJ6JI"
      }
    }
  ]
}